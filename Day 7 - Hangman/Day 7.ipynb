{
 "cells": [
  {
   "cell_type": "markdown",
   "id": "9215bc99-5e18-41a0-b79d-8cca892367c2",
   "metadata": {},
   "source": [
    "# Hangman Project"
   ]
  },
  {
   "cell_type": "markdown",
   "id": "8648753a-ad1d-44b9-896b-df5e601503ea",
   "metadata": {},
   "source": [
    "### over all :"
   ]
  },
  {
   "cell_type": "code",
   "execution_count": 4,
   "id": "e0b221a5-7459-4390-a693-72dd36b400f5",
   "metadata": {},
   "outputs": [
    {
     "name": "stdout",
     "output_type": "stream",
     "text": [
      " \n",
      "                 _                                             \n",
      "                | |                                            \n",
      "                | |__   __ _ _ __   __ _ _ __ ___   __ _ _ __  \n",
      "                | '_ \\ / _` | '_ \\ / _` | '_ ` _ \\ / _` | '_ \\ \n",
      "                | | | | (_| | | | | (_| | | | | | | (_| | | | |\n",
      "                |_| |_|\\__,_|_| |_|\\__, |_| |_| |_|\\__,_|_| |_|\n",
      "                                    __/ |                      \n",
      "                                   |___/                          \n",
      "coyote\n"
     ]
    },
    {
     "name": "stdin",
     "output_type": "stream",
     "text": [
      "Guess a letter :  a\n"
     ]
    },
    {
     "name": "stdout",
     "output_type": "stream",
     "text": [
      " You guessed \"a\" , that's not in the word. You lose a life! \n",
      "_ _ _ _ _ _\n",
      "\n",
      " \n",
      "                  _______\n",
      "                 |/      |\n",
      "                 |      (_)\n",
      "                 |      \n",
      "                 |      \n",
      "                 |      \n",
      "                 |\n",
      "                _|___\n",
      "\n",
      "\n",
      "            \n"
     ]
    },
    {
     "name": "stdin",
     "output_type": "stream",
     "text": [
      "Guess a letter :  a\n"
     ]
    },
    {
     "name": "stdout",
     "output_type": "stream",
     "text": [
      "You had chosen this letter before.\n"
     ]
    },
    {
     "name": "stdin",
     "output_type": "stream",
     "text": [
      "Guess a letter :  o\n"
     ]
    },
    {
     "name": "stdout",
     "output_type": "stream",
     "text": [
      "_ o _ o _ _\n",
      "\n",
      " \n",
      "                  _______\n",
      "                 |/      |\n",
      "                 |      (_)\n",
      "                 |      \n",
      "                 |      \n",
      "                 |      \n",
      "                 |\n",
      "                _|___\n",
      "\n",
      "\n",
      "            \n"
     ]
    },
    {
     "name": "stdin",
     "output_type": "stream",
     "text": [
      "Guess a letter :  t\n"
     ]
    },
    {
     "name": "stdout",
     "output_type": "stream",
     "text": [
      "_ o _ o t _\n",
      "\n",
      " \n",
      "                  _______\n",
      "                 |/      |\n",
      "                 |      (_)\n",
      "                 |      \n",
      "                 |      \n",
      "                 |      \n",
      "                 |\n",
      "                _|___\n",
      "\n",
      "\n",
      "            \n"
     ]
    },
    {
     "name": "stdin",
     "output_type": "stream",
     "text": [
      "Guess a letter :  e\n"
     ]
    },
    {
     "name": "stdout",
     "output_type": "stream",
     "text": [
      "_ o _ o t e\n",
      "\n",
      " \n",
      "                  _______\n",
      "                 |/      |\n",
      "                 |      (_)\n",
      "                 |      \n",
      "                 |      \n",
      "                 |      \n",
      "                 |\n",
      "                _|___\n",
      "\n",
      "\n",
      "            \n"
     ]
    },
    {
     "name": "stdin",
     "output_type": "stream",
     "text": [
      "Guess a letter :  w\n"
     ]
    },
    {
     "name": "stdout",
     "output_type": "stream",
     "text": [
      " You guessed \"w\" , that's not in the word. You lose a life! \n",
      "_ o _ o t e\n",
      "\n",
      " \n",
      "                  _______\n",
      "                 |/      |\n",
      "                 |      (_)\n",
      "                 |       |\n",
      "                 |       |\n",
      "                 |      \n",
      "                 |\n",
      "                _|___\n",
      "\n",
      "\n",
      "            \n"
     ]
    },
    {
     "name": "stdin",
     "output_type": "stream",
     "text": [
      "Guess a letter :  o\n"
     ]
    },
    {
     "name": "stdout",
     "output_type": "stream",
     "text": [
      "You had chosen this letter before.\n"
     ]
    },
    {
     "name": "stdin",
     "output_type": "stream",
     "text": [
      "Guess a letter :  c\n"
     ]
    },
    {
     "name": "stdout",
     "output_type": "stream",
     "text": [
      "c o _ o t e\n",
      "\n",
      " \n",
      "                  _______\n",
      "                 |/      |\n",
      "                 |      (_)\n",
      "                 |       |\n",
      "                 |       |\n",
      "                 |      \n",
      "                 |\n",
      "                _|___\n",
      "\n",
      "\n",
      "            \n"
     ]
    },
    {
     "name": "stdin",
     "output_type": "stream",
     "text": [
      "Guess a letter :  y\n"
     ]
    },
    {
     "name": "stdout",
     "output_type": "stream",
     "text": [
      "c o y o t e\n",
      "\n",
      "Gongrats , you saved the man. \n",
      " \n",
      "                  _______\n",
      "                 |/      |\n",
      "                 |      (_)\n",
      "                 |       |\n",
      "                 |       |\n",
      "                 |      \n",
      "                 |\n",
      "                _|___\n",
      "\n",
      "\n",
      "            \n"
     ]
    }
   ],
   "source": [
    "import Hangman_words\n",
    "import Hangman_art\n",
    "import random\n",
    "\n",
    "print(Hangman_art.logo)\n",
    "\n",
    "word_list = Hangman_words.words_list\n",
    "chosen_word = random.choice(word_list)\n",
    "\n",
    "display = []\n",
    "for letter in chosen_word :\n",
    "    display.append(\"_\")\n",
    "    \n",
    "guessed_letters = []\n",
    "lives = 6\n",
    "game_is_done = False \n",
    "while not game_is_done :\n",
    "    guess = input(\"Guess a letter : \").lower()\n",
    "\n",
    "    if guess in guessed_letters :\n",
    "        print(\"You had chosen this letter before.\")\n",
    "    else:\n",
    "        guessed_letters += guess\n",
    "        for position in range (0 , len(chosen_word)) :\n",
    "            letter = chosen_word[position]\n",
    "            if letter == guess :\n",
    "                display[position] = guess\n",
    "        if guess not in chosen_word :\n",
    "            lives -= 1\n",
    "            print(f\" You guessed \\\"{guess}\\\" , that's not in the word. You lose a life! \")\n",
    "            if lives == 0 :\n",
    "                print(f\"You lose , the word was = {chosen_word}\")\n",
    "                game_is_done = True \n",
    "        print(f\"{' '.join(display)}\\n\")\n",
    "        if \"_\" not in display :\n",
    "            print(\"Gongrats , you saved the man. \")\n",
    "            game_is_done = True \n",
    "        print(Hangman_art.stages[lives])\n",
    "        \n"
   ]
  },
  {
   "cell_type": "markdown",
   "id": "4a77c1cb-8222-4992-8ef1-fd6897c42af3",
   "metadata": {},
   "source": [
    "* ### **step 1**"
   ]
  },
  {
   "cell_type": "code",
   "execution_count": 13,
   "id": "3cd1508b-8a15-48c3-a731-85a0ad4d8c51",
   "metadata": {},
   "outputs": [
    {
     "name": "stdout",
     "output_type": "stream",
     "text": [
      "ardvark\n"
     ]
    },
    {
     "name": "stdin",
     "output_type": "stream",
     "text": [
      "Guess a letter :  a\n"
     ]
    },
    {
     "name": "stdout",
     "output_type": "stream",
     "text": [
      "Right\n",
      "Wrong\n",
      "Wrong\n",
      "Wrong\n",
      "Right\n",
      "Wrong\n",
      "Wrong\n"
     ]
    }
   ],
   "source": [
    "import random\n",
    "word_list = [\"ardvark\",\"baboon\",\"camel\"]\n",
    "\n",
    "#ToDo1 - Randomly choose a word from the word_list and assign it to a variable callled chosen_word :\n",
    "\n",
    "chosen_word = random.choice(word_list)\n",
    "print(chosen_word)\n",
    "\n",
    "#ToDo2 - Ask the user to guess a letter and assign their answer to a variable called guess , make guess lowercase :\n",
    "\n",
    "guess = input(\"Guess a letter : \").lower()\n",
    "\n",
    "#ToDo3 - check if the letter the user guessed is one of the letter in the chosen word.\n",
    "\n",
    "letter = \"\"\n",
    "for letter in chosen_word :\n",
    "    if letter == guess :\n",
    "        print(\"Right\")\n",
    "    else :\n",
    "        print(\"Wrong\")"
   ]
  },
  {
   "cell_type": "markdown",
   "id": "1d068542-d631-4d4a-a18e-478ebebfc4d8",
   "metadata": {},
   "source": [
    "* ### **step 2 :**"
   ]
  },
  {
   "cell_type": "code",
   "execution_count": 18,
   "id": "e2329e4a-13c5-4e18-b0b9-b8cf1f69e30a",
   "metadata": {},
   "outputs": [
    {
     "name": "stdout",
     "output_type": "stream",
     "text": [
      "['_', '_', '_', '_', '_', '_', '_']\n",
      "Wrong!\n",
      "Wrong!\n",
      "Wrong!\n",
      "Wrong!\n",
      "Wrong!\n",
      "['a', '_', '_', '_', 'a', '_', '_']\n"
     ]
    }
   ],
   "source": [
    "#ToDo1 - Create an empty list called display, for each letter in the chosen_word, add a _ to display.\n",
    "\n",
    "display = []\n",
    "for letter in chosen_word :\n",
    "    display.append(\"_\")\n",
    "\n",
    "print(display)\n",
    "\n",
    "#ToDo2 - loop through each position in the chosen_word\n",
    "  #if the letter at that position matches the guess then reveal that the letter in the display at that position.\n",
    "\n",
    "for position in range (0 , len(chosen_word)) :\n",
    "    letter = chosen_word[position]\n",
    "    if letter == guess :\n",
    "        display[position] = guess \n",
    "    else:\n",
    "        print(\"Wrong!\")\n",
    "\n",
    "#ToDo3 - Print display \n",
    "\n",
    "print (display)\n"
   ]
  },
  {
   "cell_type": "markdown",
   "id": "0b8be022-3454-426f-979c-f9bb97d43b4c",
   "metadata": {},
   "source": [
    "* ### **step 3 :**"
   ]
  },
  {
   "cell_type": "code",
   "execution_count": 16,
   "id": "4d8f4149-de2d-453b-b1c3-9357a0d1e447",
   "metadata": {},
   "outputs": [
    {
     "name": "stdin",
     "output_type": "stream",
     "text": [
      "Guess a letter :  a\n"
     ]
    },
    {
     "name": "stdout",
     "output_type": "stream",
     "text": [
      "['_', 'a', '_', '_', '_', '_']\n"
     ]
    },
    {
     "name": "stdin",
     "output_type": "stream",
     "text": [
      "Guess a letter :  b\n"
     ]
    },
    {
     "name": "stdout",
     "output_type": "stream",
     "text": [
      "['b', 'a', 'b', '_', '_', '_']\n"
     ]
    },
    {
     "name": "stdin",
     "output_type": "stream",
     "text": [
      "Guess a letter :  o\n"
     ]
    },
    {
     "name": "stdout",
     "output_type": "stream",
     "text": [
      "['b', 'a', 'b', 'o', 'o', '_']\n"
     ]
    },
    {
     "name": "stdin",
     "output_type": "stream",
     "text": [
      "Guess a letter :  n\n"
     ]
    },
    {
     "name": "stdout",
     "output_type": "stream",
     "text": [
      "['b', 'a', 'b', 'o', 'o', 'n']\n",
      "You win\n"
     ]
    }
   ],
   "source": [
    "#ToDo1 - Use a while loop to let the user guess again  \n",
    "#the loop should only stop once the user guessed all the letters in \"chesen word\" and \"display\" has no more blanks . then can tell the user they,ve won.\n",
    "\n",
    "display = []\n",
    "for letter in chosen_word :\n",
    "    display.append(\"_\")\n",
    "\n",
    "game_is_done = False \n",
    "while not game_is_done :\n",
    "    guess = input(\"Guess a letter : \").lower()\n",
    "    for position in range (0 , len(chosen_word)) :\n",
    "        letter = chosen_word[position]\n",
    "        if letter == guess :\n",
    "            display[position] = guess\n",
    "    print (display)\n",
    "    if \"_\" not in display :\n",
    "        print(\"You win\")\n",
    "        game_is_done = True \n",
    "    "
   ]
  },
  {
   "cell_type": "markdown",
   "id": "e01f64c1-2b65-495f-9beb-5d98e86be4c4",
   "metadata": {},
   "source": [
    "* ### **step 4 :**"
   ]
  },
  {
   "cell_type": "code",
   "execution_count": null,
   "id": "43448ed7-9ea5-4404-8966-ca98cb60b8e6",
   "metadata": {},
   "outputs": [],
   "source": [
    "stages = [r''' \n",
    "                  _______\n",
    "                 |/      |\n",
    "                 |      (_)\n",
    "                 |      \\|/\n",
    "                 |       |\n",
    "                 |      / \\\n",
    "                 |\n",
    "                _|___\n",
    "\n",
    "\n",
    "            ''' , r''' \n",
    "                  _______\n",
    "                 |/      |\n",
    "                 |      (_)\n",
    "                 |      \\|/\n",
    "                 |       |\n",
    "                 |      / \n",
    "                 |\n",
    "                _|___\n",
    "\n",
    "\n",
    "            ''' , r''' \n",
    "                  _______\n",
    "                 |/      |\n",
    "                 |      (_)\n",
    "                 |      \\|/\n",
    "                 |       |\n",
    "                 |       \n",
    "                 |\n",
    "                _|___\n",
    "\n",
    "\n",
    "            ''' , r''' \n",
    "                  _______\n",
    "                 |/      |\n",
    "                 |      (_)\n",
    "                 |      \\|\n",
    "                 |       |\n",
    "                 |     \n",
    "                 |\n",
    "                _|___\n",
    "\n",
    "\n",
    "            ''' , r''' \n",
    "                  _______\n",
    "                 |/      |\n",
    "                 |      (_)\n",
    "                 |       |\n",
    "                 |       |\n",
    "                 |      \n",
    "                 |\n",
    "                _|___\n",
    "\n",
    "\n",
    "            ''' , r''' \n",
    "                  _______\n",
    "                 |/      |\n",
    "                 |      (_)\n",
    "                 |      \n",
    "                 |      \n",
    "                 |      \n",
    "                 |\n",
    "                _|___\n",
    "\n",
    "\n",
    "            ''' ]\n",
    "\n",
    "#ToDo1 - Create a variable called 'lives' to keep track of the number of lives left. set it to equal 6 .\n",
    "\n",
    "lives = 6\n",
    "\n",
    "#ToDo2 - If guess is not a letter in the chosen word, then reduce 'lives' by 1.\n",
    "#If 'lives' goes down to 0 then the game should stop.\n",
    "\n",
    "game_is_done = False \n",
    "while not game_is_done :\n",
    "    guess = input(\"Guess a letter : \").lower()\n",
    "    for position in range (0 , len(chosen_word)) :\n",
    "        letter = chosen_word[position]\n",
    "        if letter == guess :\n",
    "            display[position] = guess\n",
    "    if guess not in chosen_word :\n",
    "        print(stages[lives])\n",
    "        lives -= 1 \n",
    "        if lives == 0 :\n",
    "        print(\"You lose\")\n",
    "        game_is_done = True \n",
    "    print (display)\n",
    "    if \"_\" not in display :\n",
    "        print(\"You win\")\n",
    "        game_is_done = True \n",
    "\n",
    "#ToDo3 - print the ASCII art from stages that corresponds to the current number of 'lives' the user has remaining .\n",
    "    \n",
    "    print(stages[lives])\n"
   ]
  },
  {
   "cell_type": "markdown",
   "id": "1316fa60-0ce7-4192-b404-c1d329b5dd65",
   "metadata": {},
   "source": [
    "* ### **step 5 :**"
   ]
  },
  {
   "cell_type": "code",
   "execution_count": null,
   "id": "801f1846-7ca8-4f42-88d6-fbd564394aff",
   "metadata": {},
   "outputs": [],
   "source": [
    "# improve the user experience by adding arts and words of hangman by module to the code and adding some other options like :\n",
    "        # 1. Tell the user if the letter he/she chooses is repeated\n",
    "        # 2. Tell the user what letter he/she chose.\n"
   ]
  }
 ],
 "metadata": {
  "kernelspec": {
   "display_name": "Python 3 (ipykernel)",
   "language": "python",
   "name": "python3"
  },
  "language_info": {
   "codemirror_mode": {
    "name": "ipython",
    "version": 3
   },
   "file_extension": ".py",
   "mimetype": "text/x-python",
   "name": "python",
   "nbconvert_exporter": "python",
   "pygments_lexer": "ipython3",
   "version": "3.12.3"
  }
 },
 "nbformat": 4,
 "nbformat_minor": 5
}
