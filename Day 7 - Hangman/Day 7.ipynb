{
 "cells": [
  {
   "cell_type": "markdown",
   "id": "9215bc99-5e18-41a0-b79d-8cca892367c2",
   "metadata": {},
   "source": [
    "# Hangman Project"
   ]
  },
  {
   "cell_type": "markdown",
   "id": "8648753a-ad1d-44b9-896b-df5e601503ea",
   "metadata": {},
   "source": [
    "### over all :"
   ]
  },
  {
   "cell_type": "code",
   "execution_count": null,
   "id": "e0b221a5-7459-4390-a693-72dd36b400f5",
   "metadata": {},
   "outputs": [],
   "source": [
    "import random\n",
    "word_list = [\"ardvark\",\"baboon\",\"camel\"]\n",
    "\n",
    "chosen_word = random.choice(word_list)\n",
    "\n",
    "guess = input(\"Guess a letter : \").lower()\n",
    "\n",
    "letter = \"\"\n",
    "for letter in chosen_word :\n",
    "    if letter == guess :\n",
    "        print(\"Right\")\n",
    "    else :\n",
    "        print(\"Wrong\")\n",
    "\n",
    "display = []\n",
    "for letter in chosen_word :\n",
    "    display.append(\"_\")\n",
    "\n",
    "print(display)\n",
    "\n",
    "\n",
    "for position in range (0 , len(chosen_word)) :\n",
    "    letter = chosen_word[position]\n",
    "    if letter == guess :\n",
    "        display[position] = guess \n",
    "    else:\n",
    "        print(\"Wrong!\")\n",
    "\n",
    "\n",
    "print (display)"
   ]
  },
  {
   "cell_type": "markdown",
   "id": "4a77c1cb-8222-4992-8ef1-fd6897c42af3",
   "metadata": {},
   "source": [
    "* ### **step 1**"
   ]
  },
  {
   "cell_type": "code",
   "execution_count": 13,
   "id": "3cd1508b-8a15-48c3-a731-85a0ad4d8c51",
   "metadata": {},
   "outputs": [
    {
     "name": "stdout",
     "output_type": "stream",
     "text": [
      "ardvark\n"
     ]
    },
    {
     "name": "stdin",
     "output_type": "stream",
     "text": [
      "Guess a letter :  a\n"
     ]
    },
    {
     "name": "stdout",
     "output_type": "stream",
     "text": [
      "Right\n",
      "Wrong\n",
      "Wrong\n",
      "Wrong\n",
      "Right\n",
      "Wrong\n",
      "Wrong\n"
     ]
    }
   ],
   "source": [
    "import random\n",
    "word_list = [\"ardvark\",\"baboon\",\"camel\"]\n",
    "\n",
    "#ToDo1 - Randomly choose a word from the word_list and assign it to a variable callled chosen_word :\n",
    "\n",
    "chosen_word = random.choice(word_list)\n",
    "\n",
    "#ToDo2 - Ask the user to guess a letter and assign their answer to a variable called guess , make guess lowercase :\n",
    "\n",
    "guess = input(\"Guess a letter : \").lower()\n",
    "\n",
    "#ToDo3 - check if the letter the user guessed is one of the letter in the chosen word.\n",
    "\n",
    "letter = \"\"\n",
    "for letter in chosen_word :\n",
    "    if letter == guess :\n",
    "        print(\"Right\")\n",
    "    else :\n",
    "        print(\"Wrong\")"
   ]
  },
  {
   "cell_type": "markdown",
   "id": "1d068542-d631-4d4a-a18e-478ebebfc4d8",
   "metadata": {},
   "source": [
    "* ### **step 2 :**"
   ]
  },
  {
   "cell_type": "code",
   "execution_count": 18,
   "id": "e2329e4a-13c5-4e18-b0b9-b8cf1f69e30a",
   "metadata": {},
   "outputs": [
    {
     "name": "stdout",
     "output_type": "stream",
     "text": [
      "['_', '_', '_', '_', '_', '_', '_']\n",
      "Wrong!\n",
      "Wrong!\n",
      "Wrong!\n",
      "Wrong!\n",
      "Wrong!\n",
      "['a', '_', '_', '_', 'a', '_', '_']\n"
     ]
    }
   ],
   "source": [
    "#ToDo1 - Create an empty list called display, for each letter in the chosen_word, add a _ to display.\n",
    "\n",
    "display = []\n",
    "for letter in chosen_word :\n",
    "    display.append(\"_\")\n",
    "\n",
    "print(display)\n",
    "\n",
    "#ToDo2 - loop through each position in the chosen_word\n",
    "  #if the letter at that position matches the guess then reveal that the letter in the display at that position.\n",
    "\n",
    "for position in range (0 , len(chosen_word)) :\n",
    "    letter = chosen_word[position]\n",
    "    if letter == guess :\n",
    "        display[position] = guess \n",
    "    else:\n",
    "        print(\"Wrong!\")\n",
    "\n",
    "#ToDo3 - Print display \n",
    "\n",
    "print (display)\n"
   ]
  },
  {
   "cell_type": "markdown",
   "id": "0b8be022-3454-426f-979c-f9bb97d43b4c",
   "metadata": {},
   "source": [
    "* ### **step 3 :**\n",
    "  "
   ]
  },
  {
   "cell_type": "code",
   "execution_count": null,
   "id": "4d8f4149-de2d-453b-b1c3-9357a0d1e447",
   "metadata": {},
   "outputs": [],
   "source": []
  },
  {
   "cell_type": "code",
   "execution_count": null,
   "id": "ebf73811-25b4-4279-95e7-37507a5b9435",
   "metadata": {},
   "outputs": [],
   "source": []
  }
 ],
 "metadata": {
  "kernelspec": {
   "display_name": "Python 3 (ipykernel)",
   "language": "python",
   "name": "python3"
  },
  "language_info": {
   "codemirror_mode": {
    "name": "ipython",
    "version": 3
   },
   "file_extension": ".py",
   "mimetype": "text/x-python",
   "name": "python",
   "nbconvert_exporter": "python",
   "pygments_lexer": "ipython3",
   "version": "3.12.3"
  }
 },
 "nbformat": 4,
 "nbformat_minor": 5
}
