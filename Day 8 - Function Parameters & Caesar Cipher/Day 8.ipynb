{
 "cells": [
  {
   "cell_type": "markdown",
   "id": "a733f509-75b7-4569-9343-3428e5266326",
   "metadata": {},
   "source": [
    "* # Exercise 8.1 :\n",
    "     ### Paint Area Calculator\n",
    "  \n",
    "You're painting a wall. The instruction on the paint can says that \" **1 can of paint can cover 5 sqare meters** \" of wall. Given a random height and width of wall, calculate how many cans of paints you'll need."
   ]
  },
  {
   "cell_type": "code",
   "execution_count": 1,
   "id": "7ae09fcf-0d20-4ce5-8835-6272451ea7dd",
   "metadata": {},
   "outputs": [
    {
     "name": "stdin",
     "output_type": "stream",
     "text": [
      " Height of wall :  3\n",
      " Width of wall :  4\n"
     ]
    },
    {
     "name": "stdout",
     "output_type": "stream",
     "text": [
      "you wirh need 3 cans. \n"
     ]
    }
   ],
   "source": [
    "import math \n",
    "\n",
    "def paint_calc(height, width, cover) :\n",
    "    cans_number = math.ceil((height * width ) / cover)\n",
    "    print(f\"you will need {cans_number} cans. \")\n",
    "\n",
    "test_h = int(input(\" Height of wall : \"))\n",
    "test_w = int(input(\" Width of wall : \"))\n",
    "coverage = 5\n",
    "paint_calc(height = test_h , width = test_w , cover = coverage)"
   ]
  },
  {
   "cell_type": "code",
   "execution_count": 3,
   "id": "298f55da-b970-44d8-9dcd-c4b454c82fe8",
   "metadata": {},
   "outputs": [
    {
     "name": "stdout",
     "output_type": "stream",
     "text": [
      "2 1 2\n"
     ]
    }
   ],
   "source": [
    "#test :\n",
    "\n",
    "print(round(1.6) , round(1.4) , round(1.5))"
   ]
  },
  {
   "cell_type": "markdown",
   "id": "73fa11f0-8209-4d10-a2db-1ed57cccdae5",
   "metadata": {},
   "source": [
    "* # Exercise 8.2 :\n",
    "     ### Prime Number Checker\n",
    "  \n",
    "Prime numbers are numbers that can only be cleanly divided by itself and 1."
   ]
  },
  {
   "cell_type": "code",
   "execution_count": 6,
   "id": "2b5914a2-1731-4d62-9ad8-56f40f11c7ca",
   "metadata": {},
   "outputs": [
    {
     "name": "stdin",
     "output_type": "stream",
     "text": [
      " Check this number :  12\n"
     ]
    },
    {
     "name": "stdout",
     "output_type": "stream",
     "text": [
      "It's a prime number\n"
     ]
    }
   ],
   "source": [
    "def prime_checker(number) :\n",
    "    for i in range (2 , number) :\n",
    "        is_prime = True\n",
    "        if number % i == 0 :\n",
    "            is_prime = False\n",
    "    if is_prime == True :\n",
    "        print(\"It's a prime number\")\n",
    "    else :\n",
    "        print(\"It's not a prime number\")\n",
    "\n",
    "n = int(input(\" Check this number : \"))\n",
    "prime_checker(number = n)\n"
   ]
  },
  {
   "cell_type": "markdown",
   "id": "511d2d60-9651-416c-82d9-016e818af010",
   "metadata": {},
   "source": [
    "* # Project :\n",
    "   ### Caesar Cipher decoder and encoder \n",
    "It's a way of decoding and encoding secret military messages created by Caesar Cipher. In this way, we shift the alphabet by a certain predetermined amount.\n",
    "  "
   ]
  },
  {
   "cell_type": "code",
   "execution_count": null,
   "id": "34f97b53-335c-4666-bec8-42b612697d97",
   "metadata": {},
   "outputs": [
    {
     "name": "stdout",
     "output_type": "stream",
     "text": [
      "\n",
      "                 ▄████▄   ▄▄▄      ▓█████   ██████  ▄▄▄       ██▀███      ▄████▄   ██▓ ██▓███   ██░ ██ ▓█████  ██▀███  \n",
      "                ▒██▀ ▀█  ▒████▄    ▓█   ▀ ▒██    ▒ ▒████▄    ▓██ ▒ ██▒   ▒██▀ ▀█  ▓██▒▓██░  ██▒▓██░ ██▒▓█   ▀ ▓██ ▒ ██▒\n",
      "                ▒▓█    ▄ ▒██  ▀█▄  ▒███   ░ ▓██▄   ▒██  ▀█▄  ▓██ ░▄█ ▒   ▒▓█    ▄ ▒██▒▓██░ ██▓▒▒██▀▀██░▒███   ▓██ ░▄█ ▒\n",
      "                ▒▓▓▄ ▄██▒░██▄▄▄▄██ ▒▓█  ▄   ▒   ██▒░██▄▄▄▄██ ▒██▀▀█▄     ▒▓▓▄ ▄██▒░██░▒██▄█▓▒ ▒░▓█ ░██ ▒▓█  ▄ ▒██▀▀█▄  \n",
      "                ▒ ▓███▀ ░ ▓█   ▓██▒░▒████▒▒██████▒▒ ▓█   ▓██▒░██▓ ▒██▒   ▒ ▓███▀ ░░██░▒██▒ ░  ░░▓█▒░██▓░▒████▒░██▓ ▒██▒\n",
      "                ░ ░▒ ▒  ░ ▒▒   ▓▒█░░░ ▒░ ░▒ ▒▓▒ ▒ ░ ▒▒   ▓▒█░░ ▒▓ ░▒▓░   ░ ░▒ ▒  ░░▓  ▒▓▒░ ░  ░ ▒ ░░▒░▒░░ ▒░ ░░ ▒▓ ░▒▓░\n",
      "                  ░  ▒     ▒   ▒▒ ░ ░ ░  ░░ ░▒  ░ ░  ▒   ▒▒ ░  ░▒ ░ ▒░     ░  ▒    ▒ ░░▒ ░      ▒ ░▒░ ░ ░ ░  ░  ░▒ ░ ▒░\n",
      "                ░          ░   ▒      ░   ░  ░  ░    ░   ▒     ░░   ░    ░         ▒ ░░░        ░  ░░ ░   ░     ░░   ░ \n",
      "                ░ ░            ░  ░   ░  ░      ░        ░  ░   ░        ░ ░       ░            ░  ░  ░   ░  ░   ░     \n",
      "                ░                                                        ░                                               \n",
      "                                                \n",
      "                                \n"
     ]
    },
    {
     "name": "stdin",
     "output_type": "stream",
     "text": [
      "Type \"encode\" to encrypt, and type \"decode\" to decrypt: \n",
      " encode\n",
      "Type your message : \n",
      " My name is Zahra Sadeghi :D\n",
      "Type the shift number : \n",
      "  1470\n"
     ]
    },
    {
     "name": "stdout",
     "output_type": "stream",
     "text": [
      "the encoded message is : am boas wg novfo gorsuvw :r\n"
     ]
    },
    {
     "name": "stdin",
     "output_type": "stream",
     "text": [
      " Do you want to try again? yes or no. yes\n",
      "Type \"encode\" to encrypt, and type \"decode\" to decrypt: \n",
      " decode\n",
      "Type your message : \n",
      " am boas wg novfo gorsuvw :r\n",
      "Type the shift number : \n",
      "  1470\n"
     ]
    },
    {
     "name": "stdout",
     "output_type": "stream",
     "text": [
      "the decoded message is : my name is zahra sadeghi :d\n"
     ]
    }
   ],
   "source": [
    "from CaesarCipher_art import CaesarCipher\n",
    "alphabet = ['a','b','c','d','e','f','g','h','i','j','k','l','m','n','o','p','q','r','s','t','u','v','w','x','y','z','a','b','c','d','e','f','g','h','i','j','k','l','m','n','o','p','q','r','s','t','u','v','w','x','y','z']\n",
    "\n",
    "def caesar (text , shift , direction):\n",
    "    new_text = \"\"\n",
    "    # if direction == 'decode' :\n",
    "    #     shift *= -1\n",
    "    for char in text :\n",
    "        if char in alphabet : \n",
    "            position = alphabet.index(char)\n",
    "            if direction == 'encode' :\n",
    "                new_position = position + shift\n",
    "            elif direction == 'decode' :\n",
    "                new_position = position - shift\n",
    "            # new_position = position + shift\n",
    "            new_text += alphabet[new_position]\n",
    "        else :\n",
    "            new_text += char\n",
    "    # if direction == 'encode' :\n",
    "    #     print(f\"the encoded message is : {new_text}\")\n",
    "    # elif direction == 'decode' :\n",
    "    #     print(f\"the encoded message is : {new_text}\")\n",
    "    print(f\"the {direction}d message is : {new_text}\")\n",
    "\n",
    "\n",
    "# def encrypt(text , shift) :\n",
    "#     encoded_text = \"\"\n",
    "#     for letter in text :\n",
    "#         position = alphabet.index(letter)\n",
    "#         new_position = position + shift\n",
    "#         encoded_text += alphabet[new_position]\n",
    "#     print(f\"the encoded message is : {encoded_text}\")   \n",
    "\n",
    "# def decrypt(text , shift) :\n",
    "#     decoded_text = \"\"\n",
    "#     for letter in text :\n",
    "#         position = alphabet.index(letter)\n",
    "#         new_position = position - shift\n",
    "#         decoded_text += alphabet[new_position]\n",
    "#     print(f\"the encoded message is : {decoded_text}\")\n",
    "\n",
    "print(CaesarCipher)\n",
    "continue_game = True\n",
    "while continue_game:\n",
    "    direction = input('Type \\\"encode\\\" to encrypt, and type \"decode\" to decrypt: \\n').lower()\n",
    "    text = input(\"Type your message : \\n\").lower()\n",
    "    shift = int(input(\"Type the shift number : \\n \"))\n",
    "    shift = shift % 26\n",
    "    caesar(text, shift, direction)\n",
    "    try_again = input(\" Do you want to try again? yes or no.\").lower()\n",
    "    if try_again == 'no' :\n",
    "        continue_game = False\n",
    "        print(\"Good Bye!\")"
   ]
  }
 ],
 "metadata": {
  "kernelspec": {
   "display_name": "Python 3 (ipykernel)",
   "language": "python",
   "name": "python3"
  },
  "language_info": {
   "codemirror_mode": {
    "name": "ipython",
    "version": 3
   },
   "file_extension": ".py",
   "mimetype": "text/x-python",
   "name": "python",
   "nbconvert_exporter": "python",
   "pygments_lexer": "ipython3",
   "version": "3.12.3"
  }
 },
 "nbformat": 4,
 "nbformat_minor": 5
}
