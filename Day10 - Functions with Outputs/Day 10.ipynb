{
 "cells": [
  {
   "cell_type": "markdown",
   "id": "53f980c3-d060-45a0-912a-b2c7dad4121a",
   "metadata": {},
   "source": [
    "* ## Exercise 10.1 :\n",
    "    ### Days in month\n",
    "  \n",
    "write a function called **is_leap()** to check a year is leap or not, then create another function called **days_in_month()** which will take a year and a month as inputs and it will use this information to work out the number of days in the month, them return that as the output."
   ]
  },
  {
   "cell_type": "code",
   "execution_count": null,
   "id": "68d01707-a9e9-45e3-98d7-58f189a49c33",
   "metadata": {},
   "outputs": [],
   "source": [
    "def is_leap(year) :\n",
    "    if year % 4 == 0 :\n",
    "        if year % 100 == 0 :\n",
    "            if year % 400 == 0 :\n",
    "                return True\n",
    "            else :\n",
    "                return False\n",
    "        else :\n",
    "            return True\n",
    "    else : \n",
    "        return False\n",
    "\n",
    "def days_in_month(year , month) :\n",
    "    month_days = [31 , 28 , 31 , 30 , 31 , 30 , 31 , 31 , 30 , 31 , 30 , 31]\n",
    "    if month == 2 and is_leap(year) == True :\n",
    "        return 29 \n",
    "    else :\n",
    "        return month_days[month]\n",
    "\n",
    "year = int(input(\"Enter a year: \"))\n",
    "month = int(input(\"Enter a month: \"))\n",
    "days = days_in_month(year , month)\n",
    "print(days)"
   ]
  },
  {
   "cell_type": "markdown",
   "id": "f392b755-0877-4356-b22e-6c0bad972ec9",
   "metadata": {},
   "source": [
    "* ## Calculator :\n"
   ]
  },
  {
   "cell_type": "code",
   "execution_count": 9,
   "id": "a1a0a2d9-0a62-4d42-bb30-2180e71c24c2",
   "metadata": {},
   "outputs": [
    {
     "name": "stdout",
     "output_type": "stream",
     "text": [
      "\n",
      "             _____________________\n",
      "            / ,-----------------. \\\n",
      "            | |    1.05459 e -34| |\n",
      "            | `-----------------' |\n",
      "            | [@ ] On/Off  ###### |\n",
      "            |              ###### |\n",
      "            | [7] [8] [9] [C] [AC]|\n",
      "            |                     |\n",
      "            | [4] [5] [6] [X] [%] |\n",
      "            |                     |\n",
      "            | [1] [2] [3] [+] [-] |\n",
      "            |                     |\n",
      "            | [0] [.]  [EXP]  [=] |\n",
      "            \\_____________________/\n",
      "            \n",
      "            \n"
     ]
    },
    {
     "name": "stdin",
     "output_type": "stream",
     "text": [
      "What's the first number? :   5\n"
     ]
    },
    {
     "name": "stdout",
     "output_type": "stream",
     "text": [
      "+\n",
      "-\n",
      "*\n",
      "/\n",
      "^\n"
     ]
    },
    {
     "name": "stdin",
     "output_type": "stream",
     "text": [
      "Pick an operation :  -\n",
      "What's the next number? :   3\n"
     ]
    },
    {
     "name": "stdout",
     "output_type": "stream",
     "text": [
      "5.0-3.0=2.0\n"
     ]
    },
    {
     "name": "stdin",
     "output_type": "stream",
     "text": [
      "Type 'y' to continue calculating by 2.0 or type 'n' to start a new calculation and 'e' to exit  e\n"
     ]
    },
    {
     "name": "stdout",
     "output_type": "stream",
     "text": [
      "Good Bye!\n"
     ]
    }
   ],
   "source": [
    "from art import logo\n",
    "\n",
    "def add (n1 , n2) :\n",
    "    return n1 + n2\n",
    "\n",
    "\n",
    "def subtract (n1 , n2) :\n",
    "    return n1 - n2\n",
    "    \n",
    "    \n",
    "def multiply (n1 , n2) :\n",
    "    return n1 * n2\n",
    "\n",
    "\n",
    "def divide (n1 , n2) :\n",
    "    return n1 / n2\n",
    "\n",
    "def power (n1 , n2) :\n",
    "    return pow(n1 , n2)\n",
    "\n",
    "\n",
    "operation = {\n",
    "    \"+\" : add ,\n",
    "    \"-\" : subtract ,\n",
    "    \"*\" : multiply ,\n",
    "    \"/\" : divide ,\n",
    "    \"^\" : power\n",
    "}\n",
    "\n",
    "def calculator() : \n",
    "    print(logo)\n",
    "    num1 = float(input(\"What's the first number? :  \"))\n",
    "    \n",
    "    for symbol in operation :\n",
    "        print(symbol)\n",
    "    \n",
    "    should_continue = True\n",
    "    while should_continue :\n",
    "        operation_symbol = input(\"Pick an operation : \")\n",
    "        num2 = float(input(\"What's the next number? :  \"))\n",
    "        \n",
    "        which_operation = operation[operation_symbol]\n",
    "        answer = which_operation(num1 , num2)\n",
    "        \n",
    "        print(f\"{num1}{operation_symbol}{num2}={answer}\")\n",
    "\n",
    "        continue_with_answer = input(f\"Type 'continue' to continue calculating by {answer} or type 'new' to start a new calculation and 'exit' to exit\")\n",
    "        \n",
    "        if continue_with_answer == 'continue' :\n",
    "            num1 = answer\n",
    "        elif continue_with_answer == 'new' :\n",
    "            should_continue = False\n",
    "            calculator()\n",
    "        else :\n",
    "            print(\"Good Bye!\")\n",
    "            return\n",
    "\n",
    "\n",
    "calculator()\n",
    "\n",
    "#my_solution : \n",
    "\n",
    "# flag = True\n",
    "# while flag :\n",
    "#     continue_checker = input(f\"Type 'y' to continue calculating by {first_answer} , or type 'n' to exit\")\n",
    "#     if continue_checker == 'y' :\n",
    "#         operation_symbol = input(\"Pick another operation: \")\n",
    "#         num3 = int(input(\"What's the second number? :  \"))\n",
    "        \n",
    "#         calculation_function = operation[operation_symbol]\n",
    "#         answer = calculation_function(which_operation(num1 , num2) , num3)\n",
    "#         print(f\"{first_answer}{operation_symbol}{num3}={answer}\")\n",
    "#         first_answer = answer\n",
    "#     elif continue_checker == 'n' :\n",
    "#         flag = False\n",
    "\n",
    "\n",
    "\n",
    "\n"
   ]
  }
 ],
 "metadata": {
  "kernelspec": {
   "display_name": "Python 3 (ipykernel)",
   "language": "python",
   "name": "python3"
  },
  "language_info": {
   "codemirror_mode": {
    "name": "ipython",
    "version": 3
   },
   "file_extension": ".py",
   "mimetype": "text/x-python",
   "name": "python",
   "nbconvert_exporter": "python",
   "pygments_lexer": "ipython3",
   "version": "3.12.3"
  }
 },
 "nbformat": 4,
 "nbformat_minor": 5
}
