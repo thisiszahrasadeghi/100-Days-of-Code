{
 "cells": [
  {
   "cell_type": "markdown",
   "id": "53f980c3-d060-45a0-912a-b2c7dad4121a",
   "metadata": {},
   "source": [
    "* ## Exercise 10.1 :\n",
    "    ### Days in month\n",
    "  \n",
    "write a function called **is_leap()** to check a year is leap or not, then create another function called **days_in_month()** which will take a year and a month as inputs and it will use this information to work out the number of days in the month, them return that as the output."
   ]
  },
  {
   "cell_type": "code",
   "execution_count": null,
   "id": "68d01707-a9e9-45e3-98d7-58f189a49c33",
   "metadata": {},
   "outputs": [],
   "source": [
    "def is_leap(year) :\n",
    "    if year % 4 == 0 :\n",
    "        if year % 100 == 0 :\n",
    "            if year % 400 == 0 :\n",
    "                return True\n",
    "            else :\n",
    "                return False\n",
    "        else :\n",
    "            return True\n",
    "    else : \n",
    "        return False\n",
    "\n",
    "def days_in_month(year , month) :\n",
    "    month_days = [31 , 28 , 31 , 30 , 31 , 30 , 31 , 31 , 30 , 31 , 30 , 31]\n",
    "    if month == 2 and is_leap(year) == True :\n",
    "        return 29 \n",
    "    else :\n",
    "        return month_days[month]\n",
    "\n",
    "year = int(input(\"Enter a year: \"))\n",
    "month = int(input(\"Enter a month: \"))\n",
    "days = days_in_month(year , month)\n",
    "print(days)"
   ]
  },
  {
   "cell_type": "markdown",
   "id": "f392b755-0877-4356-b22e-6c0bad972ec9",
   "metadata": {},
   "source": [
    "* ## Calculator :\n"
   ]
  },
  {
   "cell_type": "code",
   "execution_count": 6,
   "id": "a1a0a2d9-0a62-4d42-bb30-2180e71c24c2",
   "metadata": {},
   "outputs": [
    {
     "name": "stdin",
     "output_type": "stream",
     "text": [
      "What's the first number? :   2\n"
     ]
    },
    {
     "name": "stdout",
     "output_type": "stream",
     "text": [
      "+\n",
      "-\n",
      "*\n",
      "/\n"
     ]
    },
    {
     "name": "stdin",
     "output_type": "stream",
     "text": [
      "Pick an operation from the list above:  -\n",
      "What's the second number? :   5\n"
     ]
    },
    {
     "name": "stdout",
     "output_type": "stream",
     "text": [
      "2-5=-3\n"
     ]
    },
    {
     "name": "stdin",
     "output_type": "stream",
     "text": [
      "Type 'y' to continue calculating by -3 , or type 'n' to exit y\n",
      "Pick another operation:  *\n",
      "What's the second number? :   -7\n"
     ]
    },
    {
     "name": "stdout",
     "output_type": "stream",
     "text": [
      "-3*-7=21\n"
     ]
    },
    {
     "name": "stdin",
     "output_type": "stream",
     "text": [
      "Type 'y' to continue calculating by 21 , or type 'n' to exit n\n"
     ]
    }
   ],
   "source": [
    "from art import logo\n",
    "\n",
    "def add (n1 , n2) :\n",
    "    return n1 + n2\n",
    "\n",
    "\n",
    "def subtract (n1 , n2) :\n",
    "    return n1 - n2\n",
    "    \n",
    "    \n",
    "def multiply (n1 , n2) :\n",
    "    return n1 * n2\n",
    "\n",
    "\n",
    "def divide (n1 , n2) :\n",
    "    return n1 / n2\n",
    "\n",
    "\n",
    "operation = {\n",
    "    \"+\" : add ,\n",
    "    \"-\" : subtract ,\n",
    "    \"*\" : multiply ,\n",
    "    \"/\" : divide\n",
    "}\n",
    "\n",
    "def calculator() : \n",
    "    print(logo)\n",
    "    num1 = float(input(\"What's the first number? :  \"))\n",
    "    \n",
    "    for symbol in operation :\n",
    "        print(symbol)\n",
    "    \n",
    "    should_continue = True\n",
    "    while should_continue :\n",
    "        operation_symbol = input(\"Pick an operation : \")\n",
    "        num2 = float(input(\"What's the next number? :  \"))\n",
    "        \n",
    "        which_operation = operation[operation_symbol]\n",
    "        answer = which_operation(num1 , num2)\n",
    "        \n",
    "        print(f\"{num1}{operation_symbol}{num2}={answer}\")\n",
    "    \n",
    "        if input(f\"Type 'y' to continue calculating by {answer} , or type 'n' to start a new calculation\")\n",
    "            num1 = answer\n",
    "        else :\n",
    "            should_continue = False\n",
    "            calculator()\n",
    "\n",
    "calculator()\n",
    "\n",
    "#my_solution : \n",
    "\"\"\"\n",
    "flag = True\n",
    "while flag :\n",
    "    continue_checker = input(f\"Type 'y' to continue calculating by {first_answer} , or type 'n' to exit\")\n",
    "    if continue_checker == 'y' :\n",
    "        operation_symbol = input(\"Pick another operation: \")\n",
    "        num3 = int(input(\"What's the second number? :  \"))\n",
    "        \n",
    "        calculation_function = operation[operation_symbol]\n",
    "        answer = calculation_function(which_operation(num1 , num2) , num3)\n",
    "        print(f\"{first_answer}{operation_symbol}{num3}={answer}\")\n",
    "        first_answer = answer\n",
    "    elif continue_checker == 'n' :\n",
    "        flag = False\n",
    "\"\"\"\n",
    "\n",
    "\n",
    "\n"
   ]
  }
 ],
 "metadata": {
  "kernelspec": {
   "display_name": "Python 3 (ipykernel)",
   "language": "python",
   "name": "python3"
  },
  "language_info": {
   "codemirror_mode": {
    "name": "ipython",
    "version": 3
   },
   "file_extension": ".py",
   "mimetype": "text/x-python",
   "name": "python",
   "nbconvert_exporter": "python",
   "pygments_lexer": "ipython3",
   "version": "3.12.3"
  }
 },
 "nbformat": 4,
 "nbformat_minor": 5
}
