{
 "cells": [
  {
   "cell_type": "markdown",
   "id": "765c9ece-7ef1-4125-80da-2ce658626508",
   "metadata": {},
   "source": [
    "#  Day 5"
   ]
  },
  {
   "cell_type": "markdown",
   "id": "0b747ca5-601a-4328-a8a9-2b625475a308",
   "metadata": {},
   "source": [
    "* ### Exersice 5.1 : "
   ]
  },
  {
   "cell_type": "markdown",
   "id": "bbf97543-1dd9-47fa-ae6b-eb9e93b4785e",
   "metadata": {},
   "source": [
    "Write a program that calculate the average students heights from a list of heights :"
   ]
  },
  {
   "cell_type": "code",
   "execution_count": 11,
   "id": "6465cecd-f860-4e29-9b1d-f1481f7253ae",
   "metadata": {},
   "outputs": [
    {
     "name": "stdin",
     "output_type": "stream",
     "text": [
      "Type student's height seperated by a comma . 169 , 184 , 175\n"
     ]
    },
    {
     "name": "stdout",
     "output_type": "stream",
     "text": [
      "[169, 184, 175]\n",
      "The avrage height of sudents is = 176.0\n"
     ]
    }
   ],
   "source": [
    "students_height = input(\"Type student's height seperated by a comma .\").split(\",\")\n",
    "for n in range(0,len(students_height)) :\n",
    "    students_height[n] = int(students_height[n])\n",
    "print(students_height)\n",
    "sum_height = 0\n",
    "counter = 0\n",
    "for height in students_height:\n",
    "    sum_height += height\n",
    "    counter += 1\n",
    "avrage_height = round(sum_height / counter)\n",
    "print(f\"The avrage height of sudents is = {avrage_height}\")"
   ]
  },
  {
   "cell_type": "markdown",
   "id": "aa949b42-29f1-4178-9366-31e82347fe3e",
   "metadata": {},
   "source": [
    "* ### Exersice 5.2 : "
   ]
  },
  {
   "cell_type": "markdown",
   "id": "62c3fbb3-8ef8-4526-9286-b3b0b662c88e",
   "metadata": {},
   "source": [
    "Write a program that calculate the highest score from a list of scores :"
   ]
  },
  {
   "cell_type": "code",
   "execution_count": 18,
   "id": "76559775-9039-4694-a754-159ddf4d62c9",
   "metadata": {},
   "outputs": [
    {
     "name": "stdin",
     "output_type": "stream",
     "text": [
      "Type student's scores seperated by a comma . 19 , 20\n"
     ]
    },
    {
     "name": "stdout",
     "output_type": "stream",
     "text": [
      "[19, 20]\n",
      "The highest score of sudents is = 20\n"
     ]
    }
   ],
   "source": [
    "students_score = input(\"Type student's scores seperated by a comma .\").split(\",\")\n",
    "for n in range(0,len(students_score)) :\n",
    "    students_score[n] = int(students_score[n])\n",
    "print(students_score)\n",
    "\n",
    "highest_score = students_score[0]\n",
    "counter = 0\n",
    "for score in students_score :\n",
    "    if students_score[counter] > highest_score :\n",
    "        highest_score = students_score[counter]\n",
    "    counter += 1\n",
    "\n",
    "print(f\"The highest score of sudents is = {highest_score}\")"
   ]
  },
  {
   "cell_type": "markdown",
   "id": "f66bc357-fec8-4e63-a449-ad8315faebb1",
   "metadata": {},
   "source": [
    "* ### Exersice 5.3 : \n",
    "Write a program that calculate the sum of all even numbers from 1 to 100 , including 1 and 100 ."
   ]
  },
  {
   "cell_type": "code",
   "execution_count": 3,
   "id": "babab5e0-c893-414f-ab8e-3b6949b64176",
   "metadata": {},
   "outputs": [
    {
     "name": "stdout",
     "output_type": "stream",
     "text": [
      "The summation of even numbers between 1 and 100 is : 2550\n"
     ]
    }
   ],
   "source": [
    "sum_of_even_numbers = 0\n",
    "for number in range (2,101,2):\n",
    "    sum_of_even_numbers += number\n",
    "print(f\"The summation of even numbers between 1 and 100 is : {sum_of_even_numbers}\")"
   ]
  },
  {
   "cell_type": "markdown",
   "id": "a2d624f4-7db7-477e-abee-fc4ce0420755",
   "metadata": {},
   "source": [
    "* ### Exersice 5.4 : \n",
    "Write a program that atumatically prints the solutin to the Fizz Buzz game.\n",
    "* Your program should print each number from 1 to 100 in turn .\n",
    "* When the number is divisible by 3 , then instead of printing the number it should print \"Fizz\".\n",
    "* When the number is divisible by 5 , then instead of printing the number it should print \"Buzz\".\n",
    "* And if the number is divisible by both 3 and 5 e.g. 15 , then instead of the number it should print \"FizzBuzz\"."
   ]
  },
  {
   "cell_type": "code",
   "execution_count": 7,
   "id": "fdfadcf1-1128-461e-a49a-df78a2d47a31",
   "metadata": {},
   "outputs": [
    {
     "name": "stdout",
     "output_type": "stream",
     "text": [
      "1\n",
      "2\n",
      "Fizz\n",
      "4\n",
      "Buzz\n",
      "Fizz\n",
      "7\n",
      "8\n",
      "Fizz\n",
      "Buzz\n",
      "11\n",
      "Fizz\n",
      "13\n",
      "14\n",
      "FizzBuzz\n",
      "16\n",
      "17\n",
      "Fizz\n",
      "19\n",
      "Buzz\n",
      "Fizz\n",
      "22\n",
      "23\n",
      "Fizz\n",
      "Buzz\n",
      "26\n",
      "Fizz\n",
      "28\n",
      "29\n",
      "FizzBuzz\n",
      "31\n",
      "32\n",
      "Fizz\n",
      "34\n",
      "Buzz\n",
      "Fizz\n",
      "37\n",
      "38\n",
      "Fizz\n",
      "Buzz\n",
      "41\n",
      "Fizz\n",
      "43\n",
      "44\n",
      "FizzBuzz\n",
      "46\n",
      "47\n",
      "Fizz\n",
      "49\n",
      "Buzz\n",
      "Fizz\n",
      "52\n",
      "53\n",
      "Fizz\n",
      "Buzz\n",
      "56\n",
      "Fizz\n",
      "58\n",
      "59\n",
      "FizzBuzz\n",
      "61\n",
      "62\n",
      "Fizz\n",
      "64\n",
      "Buzz\n",
      "Fizz\n",
      "67\n",
      "68\n",
      "Fizz\n",
      "Buzz\n",
      "71\n",
      "Fizz\n",
      "73\n",
      "74\n",
      "FizzBuzz\n",
      "76\n",
      "77\n",
      "Fizz\n",
      "79\n",
      "Buzz\n",
      "Fizz\n",
      "82\n",
      "83\n",
      "Fizz\n",
      "Buzz\n",
      "86\n",
      "Fizz\n",
      "88\n",
      "89\n",
      "FizzBuzz\n",
      "91\n",
      "92\n",
      "Fizz\n",
      "94\n",
      "Buzz\n",
      "Fizz\n",
      "97\n",
      "98\n",
      "Fizz\n",
      "Buzz\n"
     ]
    }
   ],
   "source": [
    "for number in range(1 , 101):\n",
    "    if number % 3 == 0 and number % 5 == 0:\n",
    "        print(\"FizzBuzz\")\n",
    "    elif number % 3 == 0 :\n",
    "        print(\"Fizz\")\n",
    "    elif number % 5 == 0 :\n",
    "        print(\"Buzz\")\n",
    "    else:\n",
    "        print(number)"
   ]
  },
  {
   "cell_type": "markdown",
   "id": "25f19775-404f-44c9-a265-64edbce9468b",
   "metadata": {},
   "source": [
    "* ## Project: Create a Password Generator"
   ]
  },
  {
   "cell_type": "code",
   "execution_count": 54,
   "id": "159f8393-b42a-4862-9f33-a46c52b53b74",
   "metadata": {},
   "outputs": [
    {
     "name": "stdout",
     "output_type": "stream",
     "text": [
      "Welcome to the Password Generator\n"
     ]
    },
    {
     "name": "stdin",
     "output_type": "stream",
     "text": [
      "How many letters would you like to be in your password? \n",
      " 2\n",
      "How many numbers would you like? \n",
      " 1\n",
      "How many symbols would you like? \n",
      " 3\n"
     ]
    },
    {
     "name": "stdout",
     "output_type": "stream",
     "text": [
      "Your password is : B4))+Y\n"
     ]
    }
   ],
   "source": [
    "# import random\n",
    "letters = ['a', 'b', 'c', 'd', 'e', 'f', 'g', 'h', 'i', 'j', 'k', 'l', 'm', 'n', 'o', 'p', 'q', 'r', 's', 't', 'u', 'v', 'w', 'x', 'y', 'z' , 'A' ,'B', 'C' , 'D' ,'E', 'F' , 'G' , 'H' , 'I' , 'J','K','L','M','N','O','P','Q','R','S','T','U','V','W','X','Y','Z']\n",
    "\n",
    "# # Python3 Program to Create list \n",
    "# # with integers within given range \n",
    "# def createList(r1, r2):\n",
    "# \treturn [item for item in range(r1, r2+1)]\n",
    "# # Driver Code\n",
    "# r1, r2 = 0, 9\n",
    "# print(createList(r1, r2))\n",
    "\n",
    "numbers = ['0', '1', '2', '3', '4', '5', '6', '7', '8', '9']\n",
    "symbols = ['!','#','$','%','&','(',')','*','+']\n",
    "\n",
    "print(\"Welcome to the Password Generator\")\n",
    "nr_letter = int(input(\"How many letters would you like to be in your password? \\n\"))\n",
    "nr_number = int(input(\"How many numbers would you like? \\n\"))\n",
    "nr_symbol = int(input(\"How many symbols would you like? \\n\"))\n",
    "\n",
    "#easy level:\n",
    "# password=\"\"\n",
    "# for letter in range (1 , nr_letter+1):\n",
    "#     password += random.choice(letters)\n",
    "\n",
    "# for letter in range (1 , nr_number+1):\n",
    "#    password += random.choice(numbers)\n",
    "    \n",
    "#for letter in range (1 , nr_symbol+1):\n",
    "#    password += random.choice(symbols)\n",
    "\n",
    "# print(password)\n",
    "\n",
    "password=[]\n",
    "\n",
    "for letter in range (1 , nr_letter+1):\n",
    "    password.append(random.choice(letters))\n",
    "\n",
    "for letter in range (1 , nr_number+1):\n",
    "   password.append(random.choice(numbers))\n",
    "    \n",
    "for letter in range (1 , nr_symbol+1):\n",
    "   password.append(random.choice(symbols))\n",
    "\n",
    "#print(password)\n",
    "\n",
    "random.shuffle(password)\n",
    "\n",
    "#using join to convert list to string :\n",
    "#newpassword= \"\".join(password)\n",
    "\n",
    "# or just :\n",
    "newpassword = \"\"\n",
    "for thing in password:\n",
    "    newpassword += thing\n",
    "\n",
    "\n",
    "print(f\"Your password is : {newpassword}\")"
   ]
  }
 ],
 "metadata": {
  "kernelspec": {
   "display_name": "Python 3 (ipykernel)",
   "language": "python",
   "name": "python3"
  },
  "language_info": {
   "codemirror_mode": {
    "name": "ipython",
    "version": 3
   },
   "file_extension": ".py",
   "mimetype": "text/x-python",
   "name": "python",
   "nbconvert_exporter": "python",
   "pygments_lexer": "ipython3",
   "version": "3.12.3"
  }
 },
 "nbformat": 4,
 "nbformat_minor": 5
}
