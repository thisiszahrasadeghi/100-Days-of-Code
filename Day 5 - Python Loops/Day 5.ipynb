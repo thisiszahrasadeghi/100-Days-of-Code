{
 "cells": [
  {
   "cell_type": "markdown",
   "id": "0b747ca5-601a-4328-a8a9-2b625475a308",
   "metadata": {},
   "source": [
    "* ### Exersice 5.1 : "
   ]
  },
  {
   "cell_type": "markdown",
   "id": "bbf97543-1dd9-47fa-ae6b-eb9e93b4785e",
   "metadata": {},
   "source": [
    "Write a program that calculate the average students heights from a list of heights :"
   ]
  },
  {
   "cell_type": "code",
   "execution_count": 11,
   "id": "6465cecd-f860-4e29-9b1d-f1481f7253ae",
   "metadata": {},
   "outputs": [
    {
     "name": "stdin",
     "output_type": "stream",
     "text": [
      "Type student's height seperated by a comma . 169 , 184 , 175\n"
     ]
    },
    {
     "name": "stdout",
     "output_type": "stream",
     "text": [
      "[169, 184, 175]\n",
      "The avrage height of sudents is = 176.0\n"
     ]
    }
   ],
   "source": [
    "students_height = input(\"Type student's height seperated by a comma .\").split(\",\")\n",
    "for n in range(0,len(students_height)) :\n",
    "    students_height[n] = int(students_height[n])\n",
    "print(students_height)\n",
    "sum_height = 0\n",
    "counter = 0\n",
    "for height in students_height:\n",
    "    sum_height += height\n",
    "    counter += 1\n",
    "avrage_height = round(sum_height / counter)\n",
    "print(f\"The avrage height of sudents is = {avrage_height}\")"
   ]
  },
  {
   "cell_type": "markdown",
   "id": "aa949b42-29f1-4178-9366-31e82347fe3e",
   "metadata": {},
   "source": [
    "* ### Exersice 5.2 : "
   ]
  },
  {
   "cell_type": "markdown",
   "id": "62c3fbb3-8ef8-4526-9286-b3b0b662c88e",
   "metadata": {},
   "source": [
    "Write a program that calculate the highest score from a list of scores :"
   ]
  },
  {
   "cell_type": "code",
   "execution_count": 18,
   "id": "76559775-9039-4694-a754-159ddf4d62c9",
   "metadata": {},
   "outputs": [
    {
     "name": "stdin",
     "output_type": "stream",
     "text": [
      "Type student's scores seperated by a comma . 19 , 20\n"
     ]
    },
    {
     "name": "stdout",
     "output_type": "stream",
     "text": [
      "[19, 20]\n",
      "The highest score of sudents is = 20\n"
     ]
    }
   ],
   "source": [
    "students_score = input(\"Type student's scores seperated by a comma .\").split(\",\")\n",
    "for n in range(0,len(students_score)) :\n",
    "    students_score[n] = int(students_score[n])\n",
    "print(students_score)\n",
    "\n",
    "highest_score = students_score[0]\n",
    "counter = 0\n",
    "for score in students_score :\n",
    "    if students_score[counter] > highest_score : # چرا نشد خو score رو به عنوان ایندکس استفاده کنم؟\n",
    "        highest_score = students_score[counter]\n",
    "    counter += 1\n",
    "\n",
    "print(f\"The highest score of sudents is = {highest_score}\")"
   ]
  }
 ],
 "metadata": {
  "kernelspec": {
   "display_name": "Python 3 (ipykernel)",
   "language": "python",
   "name": "python3"
  },
  "language_info": {
   "codemirror_mode": {
    "name": "ipython",
    "version": 3
   },
   "file_extension": ".py",
   "mimetype": "text/x-python",
   "name": "python",
   "nbconvert_exporter": "python",
   "pygments_lexer": "ipython3",
   "version": "3.12.3"
  }
 },
 "nbformat": 4,
 "nbformat_minor": 5
}
