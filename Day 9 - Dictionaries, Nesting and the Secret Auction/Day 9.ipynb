{
 "cells": [
  {
   "cell_type": "markdown",
   "id": "7296a81f-5684-452d-9a17-1590b3b51ed7",
   "metadata": {},
   "source": [
    "* ## Exercise 9.1 :\n",
    "    ### Grading Program Exercise\n",
    "\n",
    "Write a program that convert student's scores to grades."
   ]
  },
  {
   "cell_type": "code",
   "execution_count": 5,
   "id": "6725d243-18ba-4479-b143-7e2daec2c635",
   "metadata": {},
   "outputs": [
    {
     "name": "stdout",
     "output_type": "stream",
     "text": [
      "{'Harry': 'Exceeds Expectations', 'Ron': 'Acceptable', 'Hermione': 'Outstanding', 'Draco': 'Acceptable', 'Neville': 'Fail'}\n"
     ]
    }
   ],
   "source": [
    "student_scores = {\n",
    "    \"Harry\" : 81 ,\n",
    "    \"Ron\" : 78 ,\n",
    "    \"Hermione\" : 99 ,\n",
    "    \"Draco\" : 74 ,\n",
    "    \"Neville\" : 62 \n",
    "}\n",
    "\n",
    "student_grades = {}\n",
    "\n",
    "for name in student_scores :\n",
    "    if student_scores[name] > 90 :\n",
    "        student_grades[name] = \"Outstanding\"\n",
    "    elif student_scores[name] > 80 :\n",
    "        student_grades[name] = \"Exceeds Expectations\"\n",
    "    elif student_scores[name] > 70 :\n",
    "        student_grades[name] = \"Acceptable\"\n",
    "    else :\n",
    "        student_grades[name] = \"Fail\"\n",
    "\n",
    "print(student_grades)"
   ]
  },
  {
   "cell_type": "markdown",
   "id": "cc2a3383-7822-4bce-82e0-a742bf78cc4d",
   "metadata": {},
   "source": [
    "* ## Exercise 9.2 :\n",
    "    ### Dictionary in list\n",
    "\n",
    "Write a function that will add a new dictionary contains :\n",
    "\n",
    "        \"country\" : \"Russia\" , \n",
    "        \"visits\" : 2 ,\n",
    "        \"cities\" :  [\"Moscow\",\"Saint Petersburg\"]\n",
    "    \n",
    "to our travel_log list"
   ]
  },
  {
   "cell_type": "code",
   "execution_count": 14,
   "id": "b08fe93f-c801-4da0-865f-d24206876122",
   "metadata": {},
   "outputs": [
    {
     "name": "stdout",
     "output_type": "stream",
     "text": [
      "{'country': 'France', 'visits': 12, 'cities': ['Paris', 'Lille', 'Dijon']}\n",
      "{'country': 'Germany', 'visits': 5, 'cities': ['Berlin', 'Hamburg', 'Stuttgart']}\n",
      "{'country': 'Russia', 'visits': '2', 'cities': ['Moscow', 'Saint Petersburg']}\n"
     ]
    }
   ],
   "source": [
    "travel_log = [\n",
    "    {\n",
    "        \"country\" : \"France\" ,\n",
    "        \"visits\" : 12 ,\n",
    "        \"cities\" : [\"Paris\" , \"Lille\" , \"Dijon\"]\n",
    "    } ,\n",
    "    {\n",
    "        \"country\" : \"Germany\" ,\n",
    "        \"visits\" : 5 ,\n",
    "        \"cities\" : [\"Berlin\" , \"Hamburg\" , \"Stuttgart\"]\n",
    "    } \n",
    "]\n",
    "\n",
    "def add_new_country(country_name , visits_number , cities_name ) : \n",
    "    new_travel = {}\n",
    "    new_travel[\"country\"] = country_name\n",
    "    new_travel[\"visits\"] = visits_number\n",
    "    new_travel[\"cities\"] = cities_name\n",
    "    travel_log.append(new_travel)\n",
    "    \n",
    "\n",
    "add_new_country(\"Russia\" , \"2\" , [\"Moscow\",\"Saint Petersburg\"])\n",
    "\n",
    "for i in range (len(travel_log)) :\n",
    "    print(travel_log[i])\n",
    "\n",
    "\n"
   ]
  },
  {
   "cell_type": "markdown",
   "id": "4efd3b6f-42fa-4b1f-b93f-c5c8e21e9eba",
   "metadata": {},
   "source": [
    "\n",
    "* # Day 9 Project :\n",
    "    ## The secret Auction\n"
   ]
  },
  {
   "cell_type": "code",
   "execution_count": null,
   "id": "93db4d7f-9fff-4652-b4ed-27efbf719739",
   "metadata": {},
   "outputs": [],
   "source": []
  },
  {
   "cell_type": "raw",
   "id": "14b1d4ef-c301-4bff-aea9-5ab65eaaadc3",
   "metadata": {},
   "source": []
  },
  {
   "cell_type": "code",
   "execution_count": 27,
   "id": "c54684e8-8202-49ca-b807-7226d5505392",
   "metadata": {},
   "outputs": [
    {
     "name": "stdout",
     "output_type": "stream",
     "text": [
      "       \n",
      "                         ___________\n",
      "                         \\         /\n",
      "                          )_______(\n",
      "                          |\"\"\"\"\"\"\"|_.-._,.---------.,_.-._\n",
      "                          |       | | |               | | ''-.\n",
      "                          |       |_| |_             _| |_..-'\n",
      "                          |_______| '-' `'---------'` '-'\n",
      "                          )\"\"\"\"\"\"\"(\n",
      "                         /_________\\\n",
      "                         `'-------'`\n",
      "                       .-------------.\n",
      "                      /_______________\\ \n",
      "\n",
      " Welcome to the secret auction program. \n"
     ]
    },
    {
     "name": "stdin",
     "output_type": "stream",
     "text": [
      "What is your name?\n",
      " Zahra\n",
      "What's your bid? 2000\n",
      "Are there anu other bidders? Type 'Yes' or 'no'. yes\n"
     ]
    },
    {
     "name": "stdout",
     "output_type": "stream",
     "text": [
      "\u001b[H\u001b[2J"
     ]
    },
    {
     "name": "stdin",
     "output_type": "stream",
     "text": [
      "What is your name?\n",
      " Hamed\n",
      "What's your bid? 3000\n",
      "Are there anu other bidders? Type 'Yes' or 'no'. no\n"
     ]
    },
    {
     "name": "stdout",
     "output_type": "stream",
     "text": [
      "The winner is Hamed with a bid of 3000\n"
     ]
    }
   ],
   "source": [
    "from replit import clear\n",
    "gavel_art = r'''       \n",
    "                         ___________\n",
    "                         \\         /\n",
    "                          )_______(\n",
    "                          |\"\"\"\"\"\"\"|_.-._,.---------.,_.-._\n",
    "                          |       | | |               | | ''-.\n",
    "                          |       |_| |_             _| |_..-'\n",
    "                          |_______| '-' `'---------'` '-'\n",
    "                          )\"\"\"\"\"\"\"(\n",
    "                         /_________\\\n",
    "                         `'-------'`\n",
    "                       .-------------.\n",
    "                      /_______________\\ '''\n",
    "\n",
    "\n",
    "print(gavel_art)\n",
    "print(\"\\n Welcome to the secret auction program. \")\n",
    "\n",
    "auction = {}\n",
    "game_ends = False\n",
    "while not game_ends :\n",
    "    name = input(\"What is your name?\\n\")\n",
    "    bid = int(input(\"What\\'s your bid?\"))\n",
    "    auction[name] = bid\n",
    "    other_bidders = input(\"Are there anu other bidders? Type \\'Yes\\' or \\'no\\'.\").lower()\n",
    "    if other_bidders == 'yes' :\n",
    "        clear()\n",
    "    elif other_bidders == 'no' :\n",
    "        game_ends = True\n",
    "\n",
    "winner = \"\"\n",
    "highest_bid = 0\n",
    "for person in auction :\n",
    "    each_bid = auction[person]\n",
    "    if each_bid > highest_bid :\n",
    "        highest_bid = each_bid\n",
    "        winner = person\n",
    "        \n",
    "print(f\"The winner is {winner} with a bid of {highest_bid}\")"
   ]
  }
 ],
 "metadata": {
  "kernelspec": {
   "display_name": "Python 3 (ipykernel)",
   "language": "python",
   "name": "python3"
  },
  "language_info": {
   "codemirror_mode": {
    "name": "ipython",
    "version": 3
   },
   "file_extension": ".py",
   "mimetype": "text/x-python",
   "name": "python",
   "nbconvert_exporter": "python",
   "pygments_lexer": "ipython3",
   "version": "3.12.3"
  }
 },
 "nbformat": 4,
 "nbformat_minor": 5
}
